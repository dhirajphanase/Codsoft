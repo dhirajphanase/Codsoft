{
  "nbformat": 4,
  "nbformat_minor": 0,
  "metadata": {
    "colab": {
      "provenance": []
    },
    "kernelspec": {
      "name": "python3",
      "display_name": "Python 3"
    },
    "language_info": {
      "name": "python"
    }
  },
  "cells": [
    {
      "cell_type": "code",
      "source": [
        "import pandas as pd\n",
        "import numpy as np\n",
        "from sklearn.model_selection import train_test_split\n",
        "from sklearn.feature_extraction.text import CountVectorizer\n",
        "from sklearn.metrics import mean_squared_error\n",
        "from lightgbm import LGBMRegressor\n",
        "\n",
        "# Load your dataset, specifying the encoding\n",
        "df = pd.read_csv(\"IMDb Movies India.csv\", encoding='latin-1')  # Try 'latin-1' or 'ISO-8859-1'\n",
        "# If 'latin-1' doesn't work, try other encodings like 'cp1252', 'utf-16', etc.\n",
        "\n",
        "# Basic preprocessing\n",
        "df.dropna(subset=[\"Genre\", \"Director\", \"Actor 1\", \"Actor 2\", \"Actor 3\", \"Rating\"], inplace=True)\n",
        "\n",
        "# Combine all features into a single text field\n",
        "df[\"combined_features\"] = (\n",
        "    df[\"Genre\"] + \" \" +\n",
        "    df[\"Director\"] + \" \" +\n",
        "    df[\"Actor 1\"] + \" \" +\n",
        "    df[\"Actor 2\"] + \" \" +\n",
        "    df[\"Actor 3\"]\n",
        ")\n",
        "\n"
      ],
      "metadata": {
        "id": "NhUciZZqa9F-"
      },
      "execution_count": 31,
      "outputs": []
    },
    {
      "cell_type": "code",
      "source": [
        "\n",
        "# Convert text to numerical features using CountVectorizer\n",
        "vectorizer = CountVectorizer(token_pattern=r'(?u)\\b\\w+\\b')\n",
        "X = vectorizer.fit_transform(df[\"combined_features\"])\n",
        "\n",
        "\n",
        "# Target variable as float\n",
        "y = df[\"Rating\"].astype(\"float32\")\n",
        "\n",
        "# Convert X to float32\n",
        "X = X.astype(\"float32\")\n",
        "\n",
        "# Train-test split\n",
        "X_train, X_test, y_train, y_test = train_test_split(X, y, test_size=0.2, random_state=42)\n",
        "\n",
        "# Train the model\n",
        "model = LGBMRegressor()\n",
        "model.fit(X_train, y_train)\n",
        "\n",
        "mse = mean_squared_error(y_test, y_pred)\n",
        "rmse = np.sqrt(mse)\n",
        "print(f\"Root Mean Squared Error: {rmse:.2f}\")"
      ],
      "metadata": {
        "colab": {
          "base_uri": "https://localhost:8080/"
        },
        "id": "IOnb-rzda8NZ",
        "outputId": "87c973d2-b52a-4c1e-a4eb-dc6d409f0496"
      },
      "execution_count": 33,
      "outputs": [
        {
          "output_type": "stream",
          "name": "stderr",
          "text": [
            "/usr/local/lib/python3.11/dist-packages/sklearn/utils/deprecation.py:151: FutureWarning: 'force_all_finite' was renamed to 'ensure_all_finite' in 1.6 and will be removed in 1.8.\n",
            "  warnings.warn(\n"
          ]
        },
        {
          "output_type": "stream",
          "name": "stdout",
          "text": [
            "[LightGBM] [Info] Auto-choosing row-wise multi-threading, the overhead of testing was 0.016005 seconds.\n",
            "You can set `force_row_wise=true` to remove the overhead.\n",
            "And if memory is not enough, you can set `force_col_wise=true`.\n",
            "[LightGBM] [Info] Total Bins 1231\n",
            "[LightGBM] [Info] Number of data points in the train set: 6046, number of used features: 517\n",
            "[LightGBM] [Info] Start training from score 5.810569\n",
            "Root Mean Squared Error: 1.20\n"
          ]
        }
      ]
    }
  ]
}